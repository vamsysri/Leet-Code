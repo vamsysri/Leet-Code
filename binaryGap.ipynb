{
 "cells": [
  {
   "cell_type": "code",
   "execution_count": null,
   "metadata": {},
   "outputs": [],
   "source": [
    "class Solution:\n",
    "    def binaryGap(self, N):\n",
    "        last = None\n",
    "        ans = 0\n",
    "        index = 0\n",
    "        while N != 0:\n",
    "            if N & 1:\n",
    "                if last is not None:\n",
    "                    ans = max(ans, index - last)\n",
    "                last = index\n",
    "            index = index + 1\n",
    "            N = N >> 1\n",
    "        return ans\n"
   ]
  }
 ],
 "metadata": {
  "kernelspec": {
   "display_name": "Python 3",
   "language": "python",
   "name": "python3"
  },
  "language_info": {
   "codemirror_mode": {
    "name": "ipython",
    "version": 3
   },
   "file_extension": ".py",
   "mimetype": "text/x-python",
   "name": "python",
   "nbconvert_exporter": "python",
   "pygments_lexer": "ipython3",
   "version": "3.6.8"
  }
 },
 "nbformat": 4,
 "nbformat_minor": 2
}
