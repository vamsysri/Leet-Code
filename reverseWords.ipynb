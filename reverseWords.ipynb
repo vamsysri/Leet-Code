{
 "cells": [
  {
   "cell_type": "code",
   "execution_count": null,
   "metadata": {},
   "outputs": [],
   "source": [
    " class Solution:\n",
    "    def reverseWords(self, s: str) -> str:\n",
    "        temp = s.split(\" \")\n",
    "        ans =\"\"\n",
    "        for i in range(len(temp)):\n",
    "            if i >0:\n",
    "                ans= ans+\" \"+self.reverse(temp[i])\n",
    "            else:\n",
    "                ans = self.reverse(temp[i])\n",
    "        return ans\n",
    "        \n",
    "    def reverse(self,s):\n",
    "        if len(s) <=1:\n",
    "            return s\n",
    "        else:\n",
    "            return s[-1]+self.reverse(s[:len(s)-1])\n"
   ]
  }
 ],
 "metadata": {
  "kernelspec": {
   "display_name": "Python 3",
   "language": "python",
   "name": "python3"
  },
  "language_info": {
   "codemirror_mode": {
    "name": "ipython",
    "version": 3
   },
   "file_extension": ".py",
   "mimetype": "text/x-python",
   "name": "python",
   "nbconvert_exporter": "python",
   "pygments_lexer": "ipython3",
   "version": "3.6.8"
  }
 },
 "nbformat": 4,
 "nbformat_minor": 2
}
