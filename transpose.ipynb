{
 "cells": [
  {
   "cell_type": "code",
   "execution_count": null,
   "metadata": {},
   "outputs": [],
   "source": [
    "class Solution:\n",
    "    def transpose(self, A: List[List[int]]) -> List[List[int]]:\n",
    "        res = []\n",
    "        for i in range(len(A[0])):\n",
    "            b =[]\n",
    "            for j in range(len(A)):\n",
    "                b.append(A[j][i])\n",
    "            res.append(b)\n",
    "        return res\n",
    "#Alternate Solution\n",
    "        #return [[A[i][j] for i in range(len(A))] for j in range(len(A[0]))]\n"
   ]
  }
 ],
 "metadata": {
  "kernelspec": {
   "display_name": "Python 3",
   "language": "python",
   "name": "python3"
  },
  "language_info": {
   "codemirror_mode": {
    "name": "ipython",
    "version": 3
   },
   "file_extension": ".py",
   "mimetype": "text/x-python",
   "name": "python",
   "nbconvert_exporter": "python",
   "pygments_lexer": "ipython3",
   "version": "3.6.8"
  }
 },
 "nbformat": 4,
 "nbformat_minor": 2
}
