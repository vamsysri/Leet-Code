{
 "cells": [
  {
   "cell_type": "code",
   "execution_count": null,
   "metadata": {},
   "outputs": [],
   "source": [
    "class Solution:\n",
    "    def flipAndInvertImage(self, A: List[List[int]]) -> List[List[int]]:\n",
    "        flip = []\n",
    "        invert = []\n",
    "        for i in A:\n",
    "            flip.append(reverse(i))\n",
    "        for j in flip:\n",
    "            invert.append(complement(j))\n",
    "        return invert\n",
    "\n",
    "    \n",
    "def reverse(B : List[int]):\n",
    "    return reversed(B)\n",
    "            \n",
    "            \n",
    "def complement(C : List[int]):\n",
    "        rev = []\n",
    "        for p in C:\n",
    "            if p == 1:\n",
    "                rev.append(0)\n",
    "            elif p == 0:\n",
    "                rev.append(1)\n",
    "        return rev\n"
   ]
  }
 ],
 "metadata": {
  "kernelspec": {
   "display_name": "Python 3",
   "language": "python",
   "name": "python3"
  },
  "language_info": {
   "codemirror_mode": {
    "name": "ipython",
    "version": 3
   },
   "file_extension": ".py",
   "mimetype": "text/x-python",
   "name": "python",
   "nbconvert_exporter": "python",
   "pygments_lexer": "ipython3",
   "version": "3.6.8"
  }
 },
 "nbformat": 4,
 "nbformat_minor": 2
}
