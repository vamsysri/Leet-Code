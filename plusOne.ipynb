{
 "cells": [
  {
   "cell_type": "code",
   "execution_count": null,
   "metadata": {},
   "outputs": [],
   "source": [
    "class Solution:\n",
    "    def plusOne(self, digits: List[int]) -> List[int]:\n",
    "        carry =1\n",
    "        for i in range(len(digits)-1,-1,-1):\n",
    "            if carry == 1: \n",
    "                digits[i] += carry\n",
    "                carry = digits[i]//10\n",
    "                digits[i] = digits[i]%10\n",
    "            if carry ==0:\n",
    "                break\n",
    "        if carry ==1:\n",
    "            digits.insert(0,1)\n",
    "        return digits\n"
   ]
  }
 ],
 "metadata": {
  "kernelspec": {
   "display_name": "Python 3",
   "language": "python",
   "name": "python3"
  },
  "language_info": {
   "codemirror_mode": {
    "name": "ipython",
    "version": 3
   },
   "file_extension": ".py",
   "mimetype": "text/x-python",
   "name": "python",
   "nbconvert_exporter": "python",
   "pygments_lexer": "ipython3",
   "version": "3.6.8"
  }
 },
 "nbformat": 4,
 "nbformat_minor": 2
}
