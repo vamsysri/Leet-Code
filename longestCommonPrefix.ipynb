{
 "cells": [
  {
   "cell_type": "code",
   "execution_count": null,
   "metadata": {},
   "outputs": [],
   "source": [
    "class Solution:\n",
    "    def longestCommonPrefix(self, strs: List[str]) -> str:\n",
    "        if strs == []:\n",
    "            return \"\"\n",
    "        strlen = len(strs[0])\n",
    "        for i in strs:\n",
    "            if len(i) < strlen:\n",
    "                strlen = len(i)\n",
    "        prefix = \"\"\n",
    "        for k in range(0,strlen):\n",
    "            count = 0\n",
    "            for s in strs:\n",
    "                if s[k] == strs[0][k]:\n",
    "                    count += 1\n",
    "            if count == len(strs):\n",
    "                prefix = prefix + s[k]\n",
    "            else:\n",
    "                break\n",
    "        return prefix\n"
   ]
  }
 ],
 "metadata": {
  "kernelspec": {
   "display_name": "Python 3",
   "language": "python",
   "name": "python3"
  },
  "language_info": {
   "codemirror_mode": {
    "name": "ipython",
    "version": 3
   },
   "file_extension": ".py",
   "mimetype": "text/x-python",
   "name": "python",
   "nbconvert_exporter": "python",
   "pygments_lexer": "ipython3",
   "version": "3.6.8"
  }
 },
 "nbformat": 4,
 "nbformat_minor": 2
}
