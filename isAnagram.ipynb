{
 "cells": [
  {
   "cell_type": "code",
   "execution_count": null,
   "metadata": {},
   "outputs": [],
   "source": [
    "class Solution:\n",
    "    def isAnagram(self, s: str, t: str) -> bool:\n",
    "        h= {}\n",
    "        c ={}\n",
    "        if len(s) != len(t):\n",
    "            return False\n",
    "        else:\n",
    "            for i in range(0,len(s)):\n",
    "                if s[i] not in h:\n",
    "                    h[s[i]] = 1\n",
    "                else:\n",
    "                    h[s[i]] += 1\n",
    "                if t[i] not in c:\n",
    "                    c[t[i]] = 1\n",
    "                else:\n",
    "                    c[t[i]] += 1\n",
    "            for i in h:\n",
    "                if i not in c:\n",
    "                    return False\n",
    "                else:\n",
    "                    if h[i] !=  c[i]:\n",
    "                        return False\n",
    "            return True\n"
   ]
  }
 ],
 "metadata": {
  "kernelspec": {
   "display_name": "Python 3",
   "language": "python",
   "name": "python3"
  },
  "language_info": {
   "codemirror_mode": {
    "name": "ipython",
    "version": 3
   },
   "file_extension": ".py",
   "mimetype": "text/x-python",
   "name": "python",
   "nbconvert_exporter": "python",
   "pygments_lexer": "ipython3",
   "version": "3.6.8"
  }
 },
 "nbformat": 4,
 "nbformat_minor": 2
}
