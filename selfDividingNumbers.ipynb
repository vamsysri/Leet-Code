{
 "cells": [
  {
   "cell_type": "code",
   "execution_count": null,
   "metadata": {},
   "outputs": [],
   "source": [
    "class Solution:\n",
    "    def selfDividingNumbers(self, left, right):\n",
    "        ans =[]\n",
    "        for i in range(left,right+1):\n",
    "            if i <10:\n",
    "                ans.append(i)\n",
    "            else:\n",
    "                if isselfdividing(i):\n",
    "                    ans.append(i)\n",
    "        return ans\n",
    "\n",
    "def isselfdividing(nums):\n",
    "    temp = nums\n",
    "    while temp != 0:\n",
    "        temp1 = temp%10\n",
    "        if temp1 == 0:\n",
    "            return False\n",
    "        temp = (temp//10)\n",
    "        if (nums%temp1) != 0:\n",
    "            return False\n",
    "    return True\n"
   ]
  }
 ],
 "metadata": {
  "kernelspec": {
   "display_name": "Python 3",
   "language": "python",
   "name": "python3"
  },
  "language_info": {
   "codemirror_mode": {
    "name": "ipython",
    "version": 3
   },
   "file_extension": ".py",
   "mimetype": "text/x-python",
   "name": "python",
   "nbconvert_exporter": "python",
   "pygments_lexer": "ipython3",
   "version": "3.6.8"
  }
 },
 "nbformat": 4,
 "nbformat_minor": 2
}
