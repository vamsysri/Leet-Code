{
 "cells": [
  {
   "cell_type": "code",
   "execution_count": null,
   "metadata": {},
   "outputs": [],
   "source": [
    "class Solution:\n",
    "    def detectCapitalUse(self, word: str) -> bool:\n",
    "        if word[0].isupper():\n",
    "            if len(word) > 1 :\n",
    "                if word[1].isupper():\n",
    "                    for i in word:\n",
    "                        if not i.isupper():\n",
    "                            return False\n",
    "                    else:\n",
    "                        return True\n",
    "                else:\n",
    "                    for i in range(1,len(word)):\n",
    "                        if not word[i].islower():\n",
    "                            return False\n",
    "                    return True\n",
    "            else:\n",
    "                return True\n",
    "        else:\n",
    "            if len(word) > 1:\n",
    "                for i in word:\n",
    "                    if not i.islower():\n",
    "                        return False\n",
    "                return True\n",
    "            else:\n",
    "                return True\n",
    "                \n"
   ]
  }
 ],
 "metadata": {
  "kernelspec": {
   "display_name": "Python 3",
   "language": "python",
   "name": "python3"
  },
  "language_info": {
   "codemirror_mode": {
    "name": "ipython",
    "version": 3
   },
   "file_extension": ".py",
   "mimetype": "text/x-python",
   "name": "python",
   "nbconvert_exporter": "python",
   "pygments_lexer": "ipython3",
   "version": "3.6.8"
  }
 },
 "nbformat": 4,
 "nbformat_minor": 2
}
